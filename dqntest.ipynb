{
 "cells": [
  {
   "cell_type": "code",
   "execution_count": 1,
   "metadata": {},
   "outputs": [],
   "source": [
    "from RLSwitch import RLSwitchEnv\n",
    "import numpy as np\n",
    "import tensorflow as tf\n",
    "import matplotlib.pyplot as plt\n",
    "from tqdm.notebook import tqdm\n",
    "from dqn import DQN\n",
    "\n",
    "# DQN Implementation\n",
    "from collections import deque\n"
   ]
  },
  {
   "cell_type": "code",
   "execution_count": 2,
   "metadata": {},
   "outputs": [],
   "source": [
    "# Environment Setup\n",
    "n = 3 # nxn\n",
    "end_t = 30\n",
    "env = RLSwitchEnv(n,end_t, lambdaMatrix = None)"
   ]
  },
  {
   "cell_type": "code",
   "execution_count": 3,
   "metadata": {},
   "outputs": [],
   "source": [
    "# DQN setup\n",
    "gamma   = 0.9\n",
    "epsilon = .95\n",
    "dqn_agent = DQN(env=env)"
   ]
  },
  {
   "cell_type": "code",
   "execution_count": 4,
   "metadata": {},
   "outputs": [
    {
     "data": {
      "application/vnd.jupyter.widget-view+json": {
       "model_id": "8df3a35316ce40bc8d0adac02f7e50a4",
       "version_major": 2,
       "version_minor": 0
      },
      "text/plain": [
       "HBox(children=(FloatProgress(value=0.0, max=5.0), HTML(value='')))"
      ]
     },
     "metadata": {},
     "output_type": "display_data"
    },
    {
     "name": "stdout",
     "output_type": "stream",
     "text": [
      "\n"
     ]
    }
   ],
   "source": [
    "gamma   = 0.9\n",
    "epsilon = .95\n",
    "trials  = 5\n",
    "steps = []\n",
    "for trial in tqdm(range(trials)):\n",
    "    env.reset() # Reset between each trial\n",
    "    cur_state = env.state # Get the current state\n",
    "#     for step in tqdm(range(end_t)): # Till the particular run ends\n",
    "    for step in range(end_t): # Till the particular run ends\n",
    "        action = dqn_agent.act(cur_state) # Get the action\n",
    "#         env.render()\n",
    "        new_state, reward, done, _ = env.step(action) # Get the rewards\n",
    "#         print(reward)\n",
    "        dqn_agent.remember(cur_state, action, \n",
    "            reward, new_state, done) # Store the states\n",
    "        dqn_agent.replay() # Learng\n",
    "        dqn_agent.target_train() # train target\n",
    "        cur_state = new_state # set new state\n",
    "        if done:\n",
    "            break"
   ]
  },
  {
   "cell_type": "code",
   "execution_count": null,
   "metadata": {},
   "outputs": [],
   "source": [
    "dqn_agent.save_model(\"models/1stdqn\")"
   ]
  },
  {
   "cell_type": "code",
   "execution_count": null,
   "metadata": {},
   "outputs": [],
   "source": [
    "n = 3 # nxn\n",
    "end_t = 30 # number of time steps to end an episode after\n",
    "env = RLSwitchEnv(n,end_t, lambdaMatrix = None)"
   ]
  },
  {
   "cell_type": "code",
   "execution_count": null,
   "metadata": {},
   "outputs": [],
   "source": [
    "# Environment\n",
    "n = 3 # nxn\n",
    "end_t = 100 # number of time steps to end an episode after\n",
    "env = RLSwitchEnv(n,end_t, lambdaMatrix = None)\n",
    "# test settings\n",
    "\n",
    "tests = 10\n",
    "rewards = np.zeros((tests,end_t))\n",
    "\n",
    "\n",
    "for i in tqdm(range(0,tests)):\n",
    "    env.reset()\n",
    "    for j in range(0,end_t):\n",
    "        action = dqn_agent.act(env.state)\n",
    "        observation, reward, done, info = env.step(action)\n",
    "        rewards[i][j] = reward\n",
    "        if done:\n",
    "            env.reset()\n"
   ]
  },
  {
   "cell_type": "code",
   "execution_count": null,
   "metadata": {},
   "outputs": [],
   "source": [
    "# Environment\n",
    "n = 3 # nxn\n",
    "end_t = 100 # number of time steps to end an episode after\n",
    "env = RLSwitchEnv(n,end_t, lambdaMatrix = None)\n",
    "# test settings\n",
    "\n",
    "tests = 10\n",
    "rewardsRandom = np.zeros((tests,end_t))\n",
    "\n",
    "\n",
    "for i in tqdm(range(0,tests)):\n",
    "    env.reset()\n",
    "    for j in range(0,end_t):\n",
    "        action = env.action_space.sample()\n",
    "        observation, reward, done, info = env.step(action)\n",
    "        rewardsRandom[i][j] = reward\n",
    "        if done:\n",
    "            env.reset()\n"
   ]
  },
  {
   "cell_type": "code",
   "execution_count": null,
   "metadata": {},
   "outputs": [],
   "source": [
    "avgRandom = np.average(rewardsRandom,axis=1)\n",
    "avgDQN = np.average(rewards,axis=1)"
   ]
  },
  {
   "cell_type": "code",
   "execution_count": null,
   "metadata": {},
   "outputs": [],
   "source": [
    "rewards"
   ]
  },
  {
   "cell_type": "code",
   "execution_count": null,
   "metadata": {},
   "outputs": [],
   "source": [
    "plt.plot(avgDQN)\n",
    "plt.plot(avgRandom)\n",
    "plt.legend([\"DQN\",'Random'])\n",
    "plt.show()"
   ]
  },
  {
   "cell_type": "code",
   "execution_count": null,
   "metadata": {},
   "outputs": [],
   "source": [
    "# Environment Setup\n",
    "n = 3 # nxn\n",
    "end_t = 10\n",
    "env = RLSwitchEnv(n,end_t, lambdaMatrix = None)"
   ]
  },
  {
   "cell_type": "code",
   "execution_count": null,
   "metadata": {},
   "outputs": [],
   "source": [
    "action = dqn_agent.act(env.state)\n",
    "print(env.state)\n",
    "print(env.validActions[action])\n",
    "observation, reward, done, info = env.step(action)\n",
    "print(observation)"
   ]
  },
  {
   "cell_type": "code",
   "execution_count": 48,
   "metadata": {},
   "outputs": [
    {
     "data": {
      "text/plain": [
       "array([[0, 1, 0],\n",
       "       [0, 0, 1],\n",
       "       [1, 0, 0]])"
      ]
     },
     "execution_count": 48,
     "metadata": {},
     "output_type": "execute_result"
    }
   ],
   "source": [
    "env.validActions[2]"
   ]
  },
  {
   "cell_type": "code",
   "execution_count": 49,
   "metadata": {},
   "outputs": [],
   "source": [
    "nz = np.nonzero(env.validActions[2])"
   ]
  },
  {
   "cell_type": "code",
   "execution_count": 50,
   "metadata": {},
   "outputs": [
    {
     "data": {
      "text/plain": [
       "[6.0, 0.0, 0.0]"
      ]
     },
     "execution_count": 50,
     "metadata": {},
     "output_type": "execute_result"
    }
   ],
   "source": [
    "[env.state[i][nz[1][i]] for i in range(0,3)]"
   ]
  },
  {
   "cell_type": "code",
   "execution_count": 32,
   "metadata": {},
   "outputs": [
    {
     "data": {
      "text/plain": [
       "array([[0., 6., 2.],\n",
       "       [0., 1., 0.],\n",
       "       [0., 1., 2.]])"
      ]
     },
     "execution_count": 32,
     "metadata": {},
     "output_type": "execute_result"
    }
   ],
   "source": [
    "env.state"
   ]
  }
 ],
 "metadata": {
  "kernelspec": {
   "display_name": "Python [conda env:RLSwitching] *",
   "language": "python",
   "name": "conda-env-RLSwitching-py"
  },
  "language_info": {
   "codemirror_mode": {
    "name": "ipython",
    "version": 3
   },
   "file_extension": ".py",
   "mimetype": "text/x-python",
   "name": "python",
   "nbconvert_exporter": "python",
   "pygments_lexer": "ipython3",
   "version": "3.7.6"
  }
 },
 "nbformat": 4,
 "nbformat_minor": 4
}
