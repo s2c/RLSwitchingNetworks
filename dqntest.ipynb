{
 "cells": [
  {
   "cell_type": "code",
   "execution_count": 147,
   "metadata": {},
   "outputs": [],
   "source": [
    "from RLSwitch import RLSwitchEnv\n",
    "import numpy as np\n",
    "import tensorflow as tf\n",
    "import matplotlib.pyplot as plt\n",
    "from tqdm.notebook import tqdm\n",
    "from dqn import DQN\n",
    "\n",
    "# DQN Implementation\n",
    "from collections import deque\n"
   ]
  },
  {
   "cell_type": "code",
   "execution_count": 16,
   "metadata": {},
   "outputs": [],
   "source": [
    "# Environment Setup\n",
    "n = 3 # nxn\n",
    "end_t = 20 # number of time steps to end an episode after\n",
    "env = RLSwitchEnv(n,end_t, lambdaMatrix = None)"
   ]
  },
  {
   "cell_type": "code",
   "execution_count": 17,
   "metadata": {},
   "outputs": [],
   "source": [
    "# DQN setup\n",
    "gamma   = 0.9\n",
    "epsilon = .95\n",
    "dqn_agent = DQN(env=env)"
   ]
  },
  {
   "cell_type": "code",
   "execution_count": 118,
   "metadata": {},
   "outputs": [
    {
     "name": "stderr",
     "output_type": "stream",
     "text": [
      "\n",
      "\n",
      "\n",
      "\n",
      "\n",
      "  0%|          | 0/5 [00:00<?, ?it/s]\u001b[A\u001b[A\u001b[A\u001b[A\u001b[A\n",
      "\n",
      "\n",
      "\n",
      "\n",
      " 20%|██        | 1/5 [00:27<01:48, 27.03s/it]\u001b[A\u001b[A\u001b[A\u001b[A\u001b[A\n",
      "\n",
      "\n",
      "\n",
      "\n",
      " 40%|████      | 2/5 [00:53<01:20, 26.92s/it]\u001b[A\u001b[A\u001b[A\u001b[A\u001b[A\n",
      "\n",
      "\n",
      "\n",
      "\n",
      " 60%|██████    | 3/5 [01:20<00:53, 26.78s/it]\u001b[A\u001b[A\u001b[A\u001b[A\u001b[A\n",
      "\n",
      "\n",
      "\n",
      "\n",
      " 80%|████████  | 4/5 [01:46<00:26, 26.74s/it]\u001b[A\u001b[A\u001b[A\u001b[A\u001b[A\n",
      "\n",
      "\n",
      "\n",
      "\n",
      "100%|██████████| 5/5 [02:13<00:00, 26.77s/it]\u001b[A\u001b[A\u001b[A\u001b[A\u001b[A\n"
     ]
    }
   ],
   "source": [
    "gamma   = 0.9\n",
    "epsilon = .95\n",
    "trials  = 10\n",
    "steps = []\n",
    "for trial in tqdm(range(trials)):\n",
    "    env.reset() # Reset between each trial\n",
    "    cur_state = env.state # Get the current state\n",
    "#     for step in tqdm(range(end_t)): # Till the particular run ends\n",
    "    for step in range(end_t): # Till the particular run ends\n",
    "        action = dqn_agent.act(cur_state) # Get the action\n",
    "#         env.render()\n",
    "        new_state, reward, done, _ = env.step(action) # Get the rewards\n",
    "#         print(reward)\n",
    "        dqn_agent.remember(cur_state, action, \n",
    "            reward, new_state, done) # Store the states\n",
    "        dqn_agent.replay() # Learng\n",
    "        dqn_agent.target_train() # train target\n",
    "        cur_state = new_state # set new state\n",
    "        if done:\n",
    "            break"
   ]
  },
  {
   "cell_type": "code",
   "execution_count": 144,
   "metadata": {},
   "outputs": [
    {
     "name": "stdout",
     "output_type": "stream",
     "text": [
      "WARNING:tensorflow:From /home/s2c/anaconda3/envs/RLSwitching/lib/python3.7/site-packages/tensorflow_core/python/ops/resource_variable_ops.py:1786: calling BaseResourceVariable.__init__ (from tensorflow.python.ops.resource_variable_ops) with constraint is deprecated and will be removed in a future version.\n",
      "Instructions for updating:\n",
      "If using Keras pass *_constraint arguments to layers.\n",
      "INFO:tensorflow:Assets written to: models/1stdqn/assets\n"
     ]
    }
   ],
   "source": [
    "dqn_agent.save_model(\"models/1stdqn\")"
   ]
  },
  {
   "cell_type": "code",
   "execution_count": 145,
   "metadata": {},
   "outputs": [],
   "source": [
    "n = 3 # nxn\n",
    "end_t = 20 # number of time steps to end an episode after\n",
    "env = RLSwitchEnv(n,end_t, lambdaMatrix = None)"
   ]
  },
  {
   "cell_type": "code",
   "execution_count": 150,
   "metadata": {},
   "outputs": [
    {
     "data": {
      "application/vnd.jupyter.widget-view+json": {
       "model_id": "0c39d2b2d15d48a7b5ac5c816453436c",
       "version_major": 2,
       "version_minor": 0
      },
      "text/plain": [
       "HBox(children=(FloatProgress(value=0.0), HTML(value='')))"
      ]
     },
     "metadata": {},
     "output_type": "display_data"
    },
    {
     "name": "stdout",
     "output_type": "stream",
     "text": [
      "\n"
     ]
    }
   ],
   "source": [
    "# Environment\n",
    "n = 3 # nxn\n",
    "end_t = 100 # number of time steps to end an episode after\n",
    "env = RLSwitchEnv(n,end_t, lambdaMatrix = None)\n",
    "# test settings\n",
    "\n",
    "tests = 100\n",
    "rewards = np.zeros((tests,end_t))\n",
    "\n",
    "\n",
    "for i in tqdm(range(0,tests)):\n",
    "    env.reset()\n",
    "    for j in range(0,end_t):\n",
    "        action = dqn_agent.act(env.state)\n",
    "        observation, reward, done, info = env.step(action)\n",
    "        rewards[i][j] = reward\n",
    "        if done:\n",
    "            env.reset()\n"
   ]
  },
  {
   "cell_type": "code",
   "execution_count": 151,
   "metadata": {},
   "outputs": [
    {
     "data": {
      "application/vnd.jupyter.widget-view+json": {
       "model_id": "f5493e1e4c714a5f801e5239c914150f",
       "version_major": 2,
       "version_minor": 0
      },
      "text/plain": [
       "HBox(children=(FloatProgress(value=0.0), HTML(value='')))"
      ]
     },
     "metadata": {},
     "output_type": "display_data"
    },
    {
     "name": "stdout",
     "output_type": "stream",
     "text": [
      "\n"
     ]
    }
   ],
   "source": [
    "# Environment\n",
    "n = 3 # nxn\n",
    "end_t = 100 # number of time steps to end an episode after\n",
    "env = RLSwitchEnv(n,end_t, lambdaMatrix = None)\n",
    "# test settings\n",
    "\n",
    "tests = 100\n",
    "rewardsRandom = np.zeros((tests,end_t))\n",
    "\n",
    "\n",
    "for i in tqdm(range(0,tests)):\n",
    "    env.reset()\n",
    "    for j in range(0,end_t):\n",
    "        action = env.action_space.sample()\n",
    "        observation, reward, done, info = env.step(action)\n",
    "        rewardsRandom[i][j] = reward\n",
    "        if done:\n",
    "            env.reset()\n"
   ]
  },
  {
   "cell_type": "code",
   "execution_count": 159,
   "metadata": {},
   "outputs": [],
   "source": [
    "avgRandom = np.average(rewardsRandom,axis=1)\n",
    "avgDQN = np.average(rewards,axis=1)"
   ]
  },
  {
   "cell_type": "code",
   "execution_count": 160,
   "metadata": {},
   "outputs": [
    {
     "data": {
      "text/plain": [
       "[<matplotlib.lines.Line2D at 0x7f69142a2990>]"
      ]
     },
     "execution_count": 160,
     "metadata": {},
     "output_type": "execute_result"
    },
    {
     "data": {
      "image/png": "[encoded data removed]",
      "text/plain": [
       "<Figure size 432x288 with 1 Axes>"
      ]
     },
     "metadata": {
      "needs_background": "light"
     },
     "output_type": "display_data"
    }
   ],
   "source": [
    "plt.plot(avgDQN)\n",
    "plt."
   ]
  }
 ],
 "metadata": {
  "kernelspec": {
   "display_name": "Python [conda env:RLSwitching] *",
   "language": "python",
   "name": "conda-env-RLSwitching-py"
  },
  "language_info": {
   "codemirror_mode": {
    "name": "ipython",
    "version": 3
   },
   "file_extension": ".py",
   "mimetype": "text/x-python",
   "name": "python",
   "nbconvert_exporter": "python",
   "pygments_lexer": "ipython3",
   "version": "3.7.6"
  }
 },
 "nbformat": 4,
 "nbformat_minor": 4
}
