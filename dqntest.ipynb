{
 "cells": [
  {
   "cell_type": "code",
   "execution_count": 1,
   "metadata": {},
   "outputs": [],
   "source": [
    "from RLSwitch import RLSwitchEnv\n",
    "import numpy as np\n",
    "import tensorflow as tf\n",
    "import matplotlib.pyplot as plt\n",
    "from tqdm.notebook import tqdm\n",
    "from dqn import DQN\n",
    "from maxWeight import maxWeight\n",
    "\n",
    "# DQN Implementation\n",
    "from collections import deque\n"
   ]
  },
  {
   "cell_type": "code",
   "execution_count": 2,
   "metadata": {},
   "outputs": [],
   "source": [
    "# Environment Setup\n",
    "n = 3 # nxn\n",
    "end_t = 30\n",
    "env = RLSwitchEnv(n,end_t, lambdaMatrix = None)"
   ]
  },
  {
   "cell_type": "code",
   "execution_count": 3,
   "metadata": {},
   "outputs": [],
   "source": [
    "# DQN setup\n",
    "gamma   = 0.9\n",
    "epsilon = .95\n",
    "dqn_agent = DQN(env=env)"
   ]
  },
  {
   "cell_type": "code",
   "execution_count": 4,
   "metadata": {},
   "outputs": [
    {
     "data": {
      "application/vnd.jupyter.widget-view+json": {
       "model_id": "d7a3ef6a77b9466fa9cee18418176bb2",
       "version_major": 2,
       "version_minor": 0
      },
      "text/plain": [
       "HBox(children=(FloatProgress(value=0.0, max=5.0), HTML(value='')))"
      ]
     },
     "metadata": {},
     "output_type": "display_data"
    },
    {
     "name": "stdout",
     "output_type": "stream",
     "text": [
      "\n"
     ]
    }
   ],
   "source": [
    "gamma   = 0.9\n",
    "epsilon = .95\n",
    "trials  = 5\n",
    "steps = []\n",
    "for trial in tqdm(range(trials)):\n",
    "    env.reset() # Reset between each trial\n",
    "    cur_state = env.state # Get the current state\n",
    "#     for step in tqdm(range(end_t)): # Till the particular run ends\n",
    "    for step in range(end_t): # Till the particular run ends\n",
    "        action = dqn_agent.act(cur_state) # Get the action\n",
    "#         env.render()\n",
    "        new_state, reward, done, _ = env.step(action) # Get the rewards\n",
    "#         print(reward)\n",
    "        dqn_agent.remember(cur_state, action, \n",
    "            reward, new_state, done) # Store the states\n",
    "        dqn_agent.replay() # Learng\n",
    "        dqn_agent.target_train() # train target\n",
    "        cur_state = new_state # set new state\n",
    "        if done:\n",
    "            break"
   ]
  },
  {
   "cell_type": "code",
   "execution_count": 5,
   "metadata": {},
   "outputs": [
    {
     "name": "stdout",
     "output_type": "stream",
     "text": [
      "WARNING:tensorflow:From /home/s2c/anaconda3/envs/RLSwitching/lib/python3.7/site-packages/tensorflow_core/python/ops/resource_variable_ops.py:1786: calling BaseResourceVariable.__init__ (from tensorflow.python.ops.resource_variable_ops) with constraint is deprecated and will be removed in a future version.\n",
      "Instructions for updating:\n",
      "If using Keras pass *_constraint arguments to layers.\n",
      "INFO:tensorflow:Assets written to: models/1stdqn/assets\n"
     ]
    }
   ],
   "source": [
    "dqn_agent.save_model(\"models/1stdqn\")"
   ]
  },
  {
   "cell_type": "code",
   "execution_count": 6,
   "metadata": {},
   "outputs": [],
   "source": [
    "n = 3 # nxn\n",
    "end_t = 30 # number of time steps to end an episode after\n",
    "env = RLSwitchEnv(n,end_t, lambdaMatrix = None)"
   ]
  },
  {
   "cell_type": "code",
   "execution_count": 7,
   "metadata": {},
   "outputs": [
    {
     "data": {
      "application/vnd.jupyter.widget-view+json": {
       "model_id": "cd81cfb256764ec48a42e5145131f210",
       "version_major": 2,
       "version_minor": 0
      },
      "text/plain": [
       "HBox(children=(FloatProgress(value=0.0, max=10.0), HTML(value='')))"
      ]
     },
     "metadata": {},
     "output_type": "display_data"
    },
    {
     "name": "stdout",
     "output_type": "stream",
     "text": [
      "\n"
     ]
    }
   ],
   "source": [
    "# Environment\n",
    "n = 3 # nxn\n",
    "end_t = 100 # number of time steps to end an episode after\n",
    "env = RLSwitchEnv(n,end_t, lambdaMatrix = None)\n",
    "# test settings\n",
    "\n",
    "tests = 10\n",
    "rewards = np.zeros((tests,end_t))\n",
    "\n",
    "\n",
    "for i in tqdm(range(0,tests)):\n",
    "    env.reset()\n",
    "    for j in range(0,end_t):\n",
    "        action = dqn_agent.act(env.state)\n",
    "        observation, reward, done, info = env.step(action)\n",
    "        rewards[i][j] = reward\n",
    "        if done:\n",
    "            env.reset()\n"
   ]
  },
  {
   "cell_type": "code",
   "execution_count": 8,
   "metadata": {},
   "outputs": [
    {
     "data": {
      "application/vnd.jupyter.widget-view+json": {
       "model_id": "5a4421f485e64249b66e8754a62ae90d",
       "version_major": 2,
       "version_minor": 0
      },
      "text/plain": [
       "HBox(children=(FloatProgress(value=0.0, max=10.0), HTML(value='')))"
      ]
     },
     "metadata": {},
     "output_type": "display_data"
    },
    {
     "name": "stdout",
     "output_type": "stream",
     "text": [
      "\n"
     ]
    }
   ],
   "source": [
    "# Environment\n",
    "n = 3 # nxn\n",
    "end_t = 100 # number of time steps to end an episode after\n",
    "env = RLSwitchEnv(n,end_t, lambdaMatrix = None)\n",
    "# test settings\n",
    "\n",
    "tests = 10\n",
    "rewardsRandom = np.zeros((tests,end_t))\n",
    "\n",
    "\n",
    "for i in tqdm(range(0,tests)):\n",
    "    env.reset()\n",
    "    for j in range(0,end_t):\n",
    "        action = env.action_space.sample()\n",
    "        observation, reward, done, info = env.step(action)\n",
    "        rewardsRandom[i][j] = reward\n",
    "        if done:\n",
    "            env.reset()\n"
   ]
  },
  {
   "cell_type": "code",
   "execution_count": 9,
   "metadata": {},
   "outputs": [
    {
     "data": {
      "application/vnd.jupyter.widget-view+json": {
       "model_id": "c7c54b3d836543f6bb96df8b0a6c11ba",
       "version_major": 2,
       "version_minor": 0
      },
      "text/plain": [
       "HBox(children=(FloatProgress(value=0.0, max=10.0), HTML(value='')))"
      ]
     },
     "metadata": {},
     "output_type": "display_data"
    },
    {
     "name": "stdout",
     "output_type": "stream",
     "text": [
      "\n"
     ]
    }
   ],
   "source": [
    "# maxWeight Environment\n",
    "n = 3 # nxn\n",
    "end_t = 100 # number of time steps to end an episode after\n",
    "env = RLSwitchEnv(n,end_t, lambdaMatrix = None)\n",
    "# test settings\n",
    "\n",
    "tests = 10\n",
    "rewardsMaxWeight = np.zeros((tests,end_t))\n",
    "\n",
    "maxWeightAgent = maxWeight(env)\n",
    "\n",
    "for i in tqdm(range(0,tests)):\n",
    "    env.reset()\n",
    "    for j in range(0,end_t):\n",
    "        action = maxWeightAgent.act()\n",
    "        observation, reward, done, info = env.step(action)\n",
    "        rewardsMaxWeight[i][j] = reward\n",
    "        if done:\n",
    "            env.reset()\n"
   ]
  },
  {
   "cell_type": "code",
   "execution_count": 10,
   "metadata": {},
   "outputs": [],
   "source": [
    "avgRandom = np.average(rewardsRandom,axis=1)\n",
    "avgDQN = np.average(rewards,axis=1)\n",
    "avgmaxWeight = np.average(rewardsMaxWeight,axis=1)"
   ]
  },
  {
   "cell_type": "code",
   "execution_count": 12,
   "metadata": {},
   "outputs": [
    {
     "data": {
      "image/png": "[encoded data removed]",
      "text/plain": [
       "<Figure size 432x288 with 1 Axes>"
      ]
     },
     "metadata": {
      "needs_background": "light"
     },
     "output_type": "display_data"
    }
   ],
   "source": [
    "plt.plot(avgDQN)\n",
    "plt.plot(avgmaxWeight)\n",
    "plt.plot(avgRandom)\n",
    "plt.legend([\"DQN\",'maxWeight','Random'])\n",
    "plt.show()"
   ]
  }
 ],
 "metadata": {
  "kernelspec": {
   "display_name": "Python [conda env:RLSwitching] *",
   "language": "python",
   "name": "conda-env-RLSwitching-py"
  },
  "language_info": {
   "codemirror_mode": {
    "name": "ipython",
    "version": 3
   },
   "file_extension": ".py",
   "mimetype": "text/x-python",
   "name": "python",
   "nbconvert_exporter": "python",
   "pygments_lexer": "ipython3",
   "version": "3.7.6"
  }
 },
 "nbformat": 4,
 "nbformat_minor": 4
}
