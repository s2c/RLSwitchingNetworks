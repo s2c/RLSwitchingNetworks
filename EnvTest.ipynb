{
 "cells": [
  {
   "cell_type": "code",
   "execution_count": 1,
   "metadata": {},
   "outputs": [
    {
     "name": "stderr",
     "output_type": "stream",
     "text": [
      "/home/s2c/anaconda3/envs/RLSwitching/lib/python3.6/site-packages/h5py/__init__.py:36: FutureWarning: Conversion of the second argument of issubdtype from `float` to `np.floating` is deprecated. In future, it will be treated as `np.float64 == np.dtype(float).type`.\n",
      "  from ._conv import register_converters as _register_converters\n",
      "Using TensorFlow backend.\n"
     ]
    }
   ],
   "source": [
    "from RLSwitch import RLSwitchEnv\n",
    "import numpy as np\n",
    "import tensorflow as tf\n",
    "import matplotlib.pyplot as plt\n",
    "from tqdm import tqdm\n",
    "\n",
    "\n",
    "# DQN Implementation\n",
    "from keras.models import Sequential\n",
    "from keras.layers import Dense, Dropout\n",
    "from keras.optimizers import Adam\n",
    "from collections import deque\n"
   ]
  },
  {
   "cell_type": "code",
   "execution_count": null,
   "metadata": {},
   "outputs": [],
   "source": [
    "n = 3 # nxn\n",
    "end_t = 15 # number of time steps to end an episode after\n",
    "lambdaMatrix = [0.5, 0.5, 0.5,\n",
    "                0.5, 0.5, 0.5,\n",
    "                0.5, 0.5, 0.5] # \n",
    "env = RLSwitchEnv(n=3,end_t = 15, lambdaMatrix = lambdaMatrix)\n",
    "for _ in tqdm(range(1000)):\n",
    "#     env.render()\n",
    "    action = env.action_space.sample()\n",
    "    observation, reward, done, info = env.step(action)\n",
    "    if done:\n",
    "        env.reset()\n",
    "env.close()"
   ]
  },
  {
   "cell_type": "code",
   "execution_count": 3,
   "metadata": {},
   "outputs": [
    {
     "name": "stdout",
     "output_type": "stream",
     "text": [
      "State \n",
      "[[1. 0. 1.]\n",
      " [1. 0. 1.]\n",
      " [1. 1. 1.]]\n",
      "\n",
      "Action \n",
      "3\n",
      "\n",
      "State after action \n",
      "\n",
      "[[2. 0. 1.]\n",
      " [1. 1. 1.]\n",
      " [1. 2. 2.]]\n",
      "Reward: -6.0\n"
     ]
    }
   ],
   "source": [
    "# Step by step example\n",
    "n = 3 # nxn\n",
    "end_t = 15 # number of time steps to end an episode after\n",
    "lambdaMatrix = [0.5, 0.5, 0.5,\n",
    "                0.5, 0.5, 0.5,\n",
    "                0.5, 0.5, 0.5] # \n",
    "env = RLSwitchEnv(n=3,end_t = 15, lambdaMatrix = lambdaMatrix)\n",
    "action = env.action_space.sample()\n",
    "print(\"State \\n\" + str(env.state))\n",
    "print(\"\\nAction \\n\" + str(action))\n",
    "print(\"\\nActual Action \",env.validActions[action])\n",
    "\n",
    "observation, reward, done, info = env.step(action)\n",
    "print(\"\\nState after action \\n\")\n",
    "print(observation)\n",
    "print(\"Reward:\",reward)"
   ]
  },
  {
   "cell_type": "code",
   "execution_count": null,
   "metadata": {},
   "outputs": [],
   "source": [
    "import numpy as np\n",
    "import itertools as it\n",
    "n = 3\n",
    "allwords = list(it.product(*([(0,1)] * (n**2))))\n",
    "\n",
    "# convert binary words to NumPy arrays\n",
    "allarrays = map(np.asarray, allwords)\n",
    "\n",
    "# convert 1D arrays to 2D arrays\n",
    "allmatrices = [a.reshape(n,n)  for a in allarrays]\n"
   ]
  },
  {
   "cell_type": "code",
   "execution_count": null,
   "metadata": {},
   "outputs": [],
   "source": [
    "validSet = []\n",
    "for each_matrix in allmatrices:\n",
    "    if env.action_space.contains(each_matrix):\n",
    "        validSet.append(each_matrix)"
   ]
  },
  {
   "cell_type": "code",
   "execution_count": null,
   "metadata": {},
   "outputs": [],
   "source": []
  }
 ],
 "metadata": {
  "kernelspec": {
   "display_name": "Python [conda env:RLSwitching]",
   "language": "python",
   "name": "conda-env-RLSwitching-py"
  },
  "language_info": {
   "codemirror_mode": {
    "name": "ipython",
    "version": 3
   },
   "file_extension": ".py",
   "mimetype": "text/x-python",
   "name": "python",
   "nbconvert_exporter": "python",
   "pygments_lexer": "ipython3",
   "version": "3.6.8"
  }
 },
 "nbformat": 4,
 "nbformat_minor": 2
}
