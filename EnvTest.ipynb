{
 "cells": [
  {
   "cell_type": "code",
   "execution_count": 1,
   "metadata": {},
   "outputs": [],
   "source": [
    "from RLSwitch import RLSwitchEnv\n",
    "import numpy as np\n",
    "import tensorflow as tf\n",
    "import matplotlib.pyplot as plt\n",
    "from tqdm import tqdm\n",
    "\n"
   ]
  },
  {
   "cell_type": "code",
   "execution_count": null,
   "metadata": {},
   "outputs": [],
   "source": [
    "len(env.validActions)"
   ]
  },
  {
   "cell_type": "code",
   "execution_count": 15,
   "metadata": {},
   "outputs": [
    {
     "name": "stderr",
     "output_type": "stream",
     "text": [
      "100%|██████████| 1000/1000 [00:00<00:00, 18357.74it/s]\n"
     ]
    }
   ],
   "source": [
    "n = 3 # nxn\n",
    "end_t = 10000 # number of time steps to end an episode after\n",
    "# lambdaMatrix = [0.5, 0.5, 0.5,\n",
    "#                 0.5, 0.5, 0.5,\n",
    "#                 0.5, 0.5, 0.5] # \n",
    "env = RLSwitchEnv(n,end_t, lambdaMatrix = None)\n",
    "for _ in tqdm(range(1000)):\n",
    "#     env.render()\n",
    "    action = env.action_space.sample()\n",
    "    observation, reward, done, info = env.step(action)\n",
    "    if done:\n",
    "        env.reset()\n",
    "env.close()"
   ]
  },
  {
   "cell_type": "code",
   "execution_count": 16,
   "metadata": {},
   "outputs": [
    {
     "name": "stdout",
     "output_type": "stream",
     "text": [
      "State \n",
      "[[0. 0. 0.]\n",
      " [0. 0. 0.]\n",
      " [1. 1. 0.]]\n",
      "\n",
      "Action \n",
      "2\n",
      "\n",
      "Actual Action  [[0 1 0]\n",
      " [0 0 1]\n",
      " [1 0 0]]\n",
      "\n",
      "State after action \n",
      "\n",
      "[[0. 1. 1.]\n",
      " [0. 1. 1.]\n",
      " [1. 1. 0.]]\n",
      "Reward: -1.0\n"
     ]
    }
   ],
   "source": [
    "# Step by step example\n",
    "n = 3 # nxn\n",
    "end_t = 15 # number of time steps to end an episode after\n",
    "# lambdaMatrix = [0.5, 0.5, 0.5,\n",
    "#                 0.5, 0.5, 0.5,\n",
    "#                 0.5, 0.5, 0.5] # \n",
    "env = RLSwitchEnv(n,end_t, lambdaMatrix = None)\n",
    "action = env.action_space.sample()\n",
    "print(\"State \\n\" + str(env.state))\n",
    "print(\"\\nAction \\n\" + str(action))\n",
    "print(\"\\nActual Action \",env.validActions[action])\n",
    "\n",
    "observation, reward, done, info = env.step(action)\n",
    "print(\"\\nState after action \\n\")\n",
    "print(observation)\n",
    "print(\"Reward:\",reward)"
   ]
  },
  {
   "cell_type": "code",
   "execution_count": 6,
   "metadata": {},
   "outputs": [
    {
     "data": {
      "text/plain": [
       "[array([[0, 0, 1],\n",
       "        [0, 1, 0],\n",
       "        [1, 0, 0]]),\n",
       " array([[0, 0, 1],\n",
       "        [1, 0, 0],\n",
       "        [0, 1, 0]]),\n",
       " array([[0, 1, 0],\n",
       "        [0, 0, 1],\n",
       "        [1, 0, 0]]),\n",
       " array([[0, 1, 0],\n",
       "        [1, 0, 0],\n",
       "        [0, 0, 1]]),\n",
       " array([[1, 0, 0],\n",
       "        [0, 0, 1],\n",
       "        [0, 1, 0]]),\n",
       " array([[1, 0, 0],\n",
       "        [0, 1, 0],\n",
       "        [0, 0, 1]])]"
      ]
     },
     "execution_count": 6,
     "metadata": {},
     "output_type": "execute_result"
    }
   ],
   "source": [
    "env.validActions"
   ]
  }
 ],
 "metadata": {
  "kernelspec": {
   "display_name": "Python [conda env:RLSwitching] *",
   "language": "python",
   "name": "conda-env-RLSwitching-py"
  },
  "language_info": {
   "codemirror_mode": {
    "name": "ipython",
    "version": 3
   },
   "file_extension": ".py",
   "mimetype": "text/x-python",
   "name": "python",
   "nbconvert_exporter": "python",
   "pygments_lexer": "ipython3",
   "version": "3.7.6"
  }
 },
 "nbformat": 4,
 "nbformat_minor": 2
}
