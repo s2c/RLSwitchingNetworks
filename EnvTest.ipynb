{
 "cells": [
  {
   "cell_type": "code",
   "execution_count": 13,
   "metadata": {},
   "outputs": [],
   "source": [
    "from RLSwitch import RLSwitchEnv\n",
    "import numpy as np\n",
    "import tensorflow as tf\n",
    "from keras import backend as K\n",
    "import matplotlib.pyplot as plt\n",
    "from gym import spaces\n",
    "import gym\n",
    "from tqdm import tqdm"
   ]
  },
  {
   "cell_type": "code",
   "execution_count": 48,
   "metadata": {},
   "outputs": [
    {
     "name": "stderr",
     "output_type": "stream",
     "text": [
      "100%|██████████| 1000/1000 [00:00<00:00, 9649.42it/s]\n"
     ]
    }
   ],
   "source": [
    "n = 3\n",
    "end_t = 15\n",
    "lambdaMatrix = [0.5, 0.5, 0.5,\n",
    "                0.5, 0.5, 0.5,\n",
    "                0.5, 0.5, 0.5]\n",
    "env = RLSwitchEnv(n=3,end_t = 15, lambdaMatrix = lambdaMatrix)\n",
    "for _ in tqdm(range(1000)):\n",
    "#     env.render()\n",
    "    action = env.action_space.sample()\n",
    "    observation, reward, done, info = env.step(action)\n",
    "    if done:\n",
    "        env.reset()\n",
    "env.close()"
   ]
  },
  {
   "cell_type": "code",
   "execution_count": 58,
   "metadata": {},
   "outputs": [
    {
     "name": "stdout",
     "output_type": "stream",
     "text": [
      "State \n",
      "[[0. 0. 1.]\n",
      " [1. 0. 1.]\n",
      " [0. 0. 1.]]\n",
      "\n",
      "Action \n",
      "[[0. 0. 0.]\n",
      " [1. 0. 0.]\n",
      " [0. 0. 0.]]\n",
      "\n",
      "State after action \n",
      "\n",
      "[[0. 1. 1.]\n",
      " [0. 0. 2.]\n",
      " [1. 1. 2.]]\n",
      "Reward: -3.0\n"
     ]
    }
   ],
   "source": [
    "# Step by step example\n",
    "env = RLSwitchEnv(n=3,end_t = 15, lambdaMatrix = lambdaMatrix)\n",
    "action = env.action_space.sample()\n",
    "print(\"State \\n\" + str(env.state))\n",
    "print(\"\\nAction \\n\" + str(action))\n",
    "observation, reward, done, info = env.step(action)\n",
    "print(\"\\nState after action \\n\")\n",
    "print(observation)\n",
    "print(\"Reward:\",reward)"
   ]
  }
 ],
 "metadata": {
  "kernelspec": {
   "display_name": "Python [conda env:RLSwitching]",
   "language": "python",
   "name": "conda-env-RLSwitching-py"
  },
  "language_info": {
   "codemirror_mode": {
    "name": "ipython",
    "version": 3
   },
   "file_extension": ".py",
   "mimetype": "text/x-python",
   "name": "python",
   "nbconvert_exporter": "python",
   "pygments_lexer": "ipython3",
   "version": "3.6.8"
  }
 },
 "nbformat": 4,
 "nbformat_minor": 2
}
