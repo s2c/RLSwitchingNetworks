{
 "cells": [
  {
   "cell_type": "code",
   "execution_count": 1,
   "metadata": {},
   "outputs": [
    {
     "name": "stderr",
     "output_type": "stream",
     "text": [
      "/home/s2c/anaconda3/envs/RLSwitching/lib/python3.6/site-packages/h5py/__init__.py:36: FutureWarning: Conversion of the second argument of issubdtype from `float` to `np.floating` is deprecated. In future, it will be treated as `np.float64 == np.dtype(float).type`.\n",
      "  from ._conv import register_converters as _register_converters\n",
      "Using TensorFlow backend.\n"
     ]
    }
   ],
   "source": [
    "from RLSwitch import RLSwitchEnv\n",
    "import numpy as np\n",
    "import tensorflow as tf\n",
    "import matplotlib.pyplot as plt\n",
    "from tqdm import tqdm\n",
    "\n",
    "\n",
    "# DQN Implementation\n",
    "from keras.models import Sequential\n",
    "from keras.layers import Dense, Dropout\n",
    "from keras.optimizers import Adam\n",
    "from collections import deque\n"
   ]
  },
  {
   "cell_type": "code",
   "execution_count": 2,
   "metadata": {},
   "outputs": [
    {
     "name": "stderr",
     "output_type": "stream",
     "text": [
      "100%|██████████| 1000/1000 [00:00<00:00, 10988.25it/s]\n"
     ]
    }
   ],
   "source": [
    "n = 3 # nxn\n",
    "end_t = 15 # number of time steps to end an episode after\n",
    "lambdaMatrix = [0.5, 0.5, 0.5,\n",
    "                0.5, 0.5, 0.5,\n",
    "                0.5, 0.5, 0.5] # \n",
    "env = RLSwitchEnv(n=3,end_t = 15, lambdaMatrix = lambdaMatrix)\n",
    "for _ in tqdm(range(1000)):\n",
    "#     env.render()\n",
    "    action = env.action_space.sample()\n",
    "    observation, reward, done, info = env.step(action)\n",
    "    if done:\n",
    "        env.reset()\n",
    "env.close()"
   ]
  },
  {
   "cell_type": "code",
   "execution_count": 10,
   "metadata": {},
   "outputs": [],
   "source": [
    "sample = env.action_space.sample()\n",
    "env = RLSwitchEnv(n=3,end_t = 15, lambdaMatrix = lambdaMatrix)\n",
    "state = env.state"
   ]
  },
  {
   "cell_type": "code",
   "execution_count": 15,
   "metadata": {},
   "outputs": [],
   "source": [
    "newState = state-sample\n",
    "negMask = newState<0\n"
   ]
  },
  {
   "cell_type": "code",
   "execution_count": null,
   "metadata": {},
   "outputs": [],
   "source": [
    "# newState[negMask] = 0\n",
    "neState[[]]"
   ]
  },
  {
   "cell_type": "code",
   "execution_count": 23,
   "metadata": {},
   "outputs": [
    {
     "name": "stdout",
     "output_type": "stream",
     "text": [
      "State \n",
      "[[1. 1. 1.]\n",
      " [0. 0. 1.]\n",
      " [0. 1. 0.]]\n",
      "\n",
      "Action \n",
      "[[0. 0. 0.]\n",
      " [0. 0. 0.]\n",
      " [1. 0. 0.]]\n",
      "\n",
      "State after action \n",
      "\n",
      "[[1. 1. 1.]\n",
      " [0. 0. 1.]\n",
      " [0. 1. 0.]]\n",
      "Reward: -100\n"
     ]
    }
   ],
   "source": [
    "# Step by step example\n",
    "env = RLSwitchEnv(n=3,end_t = 15, lambdaMatrix = lambdaMatrix)\n",
    "action = env.action_space.sample()\n",
    "print(\"State \\n\" + str(env.state))\n",
    "print(\"\\nAction \\n\" + str(action))\n",
    "observation, reward, done, info = env.step(action)\n",
    "print(\"\\nState after action \\n\")\n",
    "print(observation)\n",
    "print(\"Reward:\",reward)"
   ]
  },
  {
   "cell_type": "code",
   "execution_count": null,
   "metadata": {
    "collapsed": true
   },
   "outputs": [],
   "source": []
  }
 ],
 "metadata": {
  "kernelspec": {
   "display_name": "Python [conda env:RLSwitching]",
   "language": "python",
   "name": "conda-env-RLSwitching-py"
  },
  "language_info": {
   "codemirror_mode": {
    "name": "ipython",
    "version": 3
   },
   "file_extension": ".py",
   "mimetype": "text/x-python",
   "name": "python",
   "nbconvert_exporter": "python",
   "pygments_lexer": "ipython3",
   "version": "3.6.8"
  }
 },
 "nbformat": 4,
 "nbformat_minor": 2
}
